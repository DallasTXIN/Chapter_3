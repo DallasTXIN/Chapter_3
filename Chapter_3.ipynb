{
 "cells": [
  {
   "cell_type": "code",
   "execution_count": 2,
   "id": "a505e201",
   "metadata": {},
   "outputs": [
    {
     "name": "stdout",
     "output_type": "stream",
     "text": [
      "3600\n",
      "3600\n",
      "86400\n",
      "24.0\n",
      "24\n"
     ]
    }
   ],
   "source": [
    "#I did all of this in VSC, then transferred all of it here. It all seems to work in VSC.\n",
    "#With the following 4 lines of code, I know I wanted to make sure there was some numbers equalling to words so I know I didn't have to keep typing numbers out.\n",
    "seconds = 60;\n",
    "minutes = 60;\n",
    "hours_day = 24;\n",
    "seconds_per_hour = 0;\n",
    "\n",
    "#I'm not sure if any of this makes sense, but all of it works like it's all supposed to.\n",
    "total_time = seconds * minutes;\n",
    "seconds_per_hour = total_time;\n",
    "seconds_per_day = seconds_per_hour * hours_day;\n",
    "seconds_floating_division = seconds_per_day / seconds_per_hour;\n",
    "seconds_integer_division = seconds_per_day // seconds_per_hour;\n",
    "\n",
    "#Here, I wanted to make sure that everything was working in case I needed to fix something. Luckily, it all works.\n",
    "print(total_time);\n",
    "print(seconds_per_hour);\n",
    "print(seconds_per_day);\n",
    "print(seconds_floating_division);\n",
    "print(seconds_integer_division);"
   ]
  }
 ],
 "metadata": {
  "kernelspec": {
   "display_name": "Python 3 (ipykernel)",
   "language": "python",
   "name": "python3"
  },
  "language_info": {
   "codemirror_mode": {
    "name": "ipython",
    "version": 3
   },
   "file_extension": ".py",
   "mimetype": "text/x-python",
   "name": "python",
   "nbconvert_exporter": "python",
   "pygments_lexer": "ipython3",
   "version": "3.9.13"
  }
 },
 "nbformat": 4,
 "nbformat_minor": 5
}
